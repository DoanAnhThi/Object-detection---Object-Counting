{
 "cells": [
  {
   "cell_type": "markdown",
   "metadata": {},
   "source": [
    "# Object Counting\n"
   ]
  },
  {
   "cell_type": "markdown",
   "metadata": {},
   "source": [
    "Trong bài toán này, chúng ta sẽ triển khai một hệ thống Object Counting để đếm số lượng đối tượng xuất hiện trong một khu vực cụ thể của video. Sử dụng mô hình YOLO, chúng ta sẽ xác định và đếm các đối tượng trong vùng được định nghĩa trước. Dưới đây là các bước thực hiện:"
   ]
  },
  {
   "cell_type": "markdown",
   "metadata": {},
   "source": [
    "### Import các thư viện cần thiết\n"
   ]
  },
  {
   "cell_type": "markdown",
   "metadata": {},
   "source": [
    "Đầu tiên, chúng ta cần import các thư viện cần thiết để xử lý video và thực hiện việc đếm đối tượng."
   ]
  },
  {
   "cell_type": "code",
   "execution_count": 2,
   "metadata": {},
   "outputs": [],
   "source": [
    "import cv2\n",
    "from ultralytics import solutions"
   ]
  },
  {
   "cell_type": "markdown",
   "metadata": {},
   "source": [
    "### Khởi tạo video và định nghĩa vùng đếm\n"
   ]
  },
  {
   "cell_type": "markdown",
   "metadata": {},
   "source": [
    "Chúng ta sẽ mở file video cần xử lý và định nghĩa các điểm để tạo thành vùng đếm đối tượng."
   ]
  },
  {
   "cell_type": "code",
   "execution_count": 5,
   "metadata": {},
   "outputs": [],
   "source": [
    "cap = cv2.VideoCapture(\"samples/highway.mp4\")\n",
    "assert cap.isOpened(), \"Error reading video file\"\n",
    "w, h, fps = (\n",
    "    int(cap.get(x))\n",
    "    for x in (cv2.CAP_PROP_FRAME_WIDTH, cv2.CAP_PROP_FRAME_HEIGHT, cv2.\n",
    "    CAP_PROP_FPS)\n",
    ")\n",
    "# Define region points\n",
    "# region_points = [(20, 400), (1080, 400)] # For line counting\n",
    "region_points = [\n",
    "    (430, 700),\n",
    "    (1600, 700),\n",
    "    (1600, 1080),\n",
    "    (430, 1080),\n",
    "] # For rectangle region counting: top left, top right, bottom right, bottom left"
   ]
  },
  {
   "cell_type": "markdown",
   "metadata": {},
   "source": [
    "### Thiết lập VideoWriter để lưu video kết quả\n"
   ]
  },
  {
   "cell_type": "markdown",
   "metadata": {},
   "source": [
    "Chúng ta cần thiết lập đối tượng VideoWriter để lưu video đã được xử lý với các đối tượng được đếm."
   ]
  },
  {
   "cell_type": "code",
   "execution_count": 6,
   "metadata": {},
   "outputs": [],
   "source": [
    "# Video writer\n",
    "video_writer = cv2.VideoWriter(\n",
    "    \"./run/highway_counted.mp4\", cv2.VideoWriter_fourcc(*\"mp4v\"), fps, (w, h)\n",
    ")"
   ]
  },
  {
   "cell_type": "markdown",
   "metadata": {},
   "source": [
    "### Khởi tạo ObjectCounter\n"
   ]
  },
  {
   "cell_type": "markdown",
   "metadata": {},
   "source": [
    "Chúng ta sẽ sử dụng ObjectCounter từ thư viện ultralytics.solutions để đếm các đối tượng trong vùng đã định nghĩa."
   ]
  },
  {
   "cell_type": "code",
   "execution_count": null,
   "metadata": {},
   "outputs": [],
   "source": [
    "# Init ObjectCounter\n",
    "counter = solutions.ObjectCounter(\n",
    "    show=False, # Display the output\n",
    "    region=region_points, # Pass region points\n",
    "    model=\"yolo11x.pt\", # model=\"yolo11n-obb.pt\" for object counting using YOLO11 OBB model.\n",
    ")"
   ]
  },
  {
   "cell_type": "markdown",
   "metadata": {},
   "source": [
    "### Xử lý video và đếm đối tượng\n"
   ]
  },
  {
   "cell_type": "markdown",
   "metadata": {},
   "source": [
    "Chúng ta sẽ đọc từng frame của video, áp dụng ObjectCounter để đếm các đối tượng và ghi lại kết quả vào video đầu ra."
   ]
  },
  {
   "cell_type": "code",
   "execution_count": null,
   "metadata": {},
   "outputs": [],
   "source": [
    "1 # Process video\n",
    " while cap.isOpened():\n",
    " success, im0 = cap.read()\n",
    " if not success:\n",
    " print(\n",
    " \"Video frame is empty or video processing has been successfully\n",
    "completed.\"\n",
    " )\n",
    " break\n",
    " im0 = counter.count(im0)\n",
    " video_writer.write(im0)\n",
    " cap.release()\n",
    " video_writer.release()\n",
    " cv2.destroyAllWindows()"
   ]
  },
  {
   "cell_type": "code",
   "execution_count": null,
   "metadata": {},
   "outputs": [],
   "source": []
  }
 ],
 "metadata": {
  "kernelspec": {
   "display_name": "Python 3",
   "language": "python",
   "name": "python3"
  },
  "language_info": {
   "codemirror_mode": {
    "name": "ipython",
    "version": 3
   },
   "file_extension": ".py",
   "mimetype": "text/x-python",
   "name": "python",
   "nbconvert_exporter": "python",
   "pygments_lexer": "ipython3",
   "version": "3.12.8"
  }
 },
 "nbformat": 4,
 "nbformat_minor": 2
}

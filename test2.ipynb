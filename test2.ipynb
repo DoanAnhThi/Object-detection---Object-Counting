{
 "cells": [
  {
   "cell_type": "code",
   "execution_count": null,
   "metadata": {},
   "outputs": [],
   "source": [
    " import cv2\n",
    " from ultralytics import solutions"
   ]
  },
  {
   "cell_type": "code",
   "execution_count": null,
   "metadata": {},
   "outputs": [],
   "source": [
    "cap = cv2.VideoCapture(\"samples/highway.mp4\")\n",
    "assert cap.isOpened(), \"Error reading video file\"\n",
    "w, h, fps = (\n",
    " int(cap.get(x))\n",
    " for x in (cv2.CAP_PROP_FRAME_WIDTH, cv2.CAP_PROP_FRAME_HEIGHT, cv2.\n",
    "CAP_PROP_FPS)\n",
    ")\n",
    "# Define region points\n",
    "# region_points = [(20, 400), (1080, 400)] # For line counting\n",
    "region_points = [\n",
    " (430, 700),\n",
    " (1600, 700),\n",
    " (1600, 1080),\n",
    " (430, 1080),\n",
    "] # For rectangle region counting: top left, top right, bottom right, bottom\n",
    "left"
   ]
  },
  {
   "cell_type": "code",
   "execution_count": null,
   "metadata": {},
   "outputs": [],
   "source": [
    "# Video writer\n",
    "video_writer = cv2.VideoWriter(\n",
    " \"./run/highway_counted.mp4\", cv2.VideoWriter_fourcc(*\"mp4v\"), fps, (w, h)\n",
    ")"
   ]
  },
  {
   "cell_type": "code",
   "execution_count": null,
   "metadata": {},
   "outputs": [],
   "source": [
    "# Init ObjectCounter\n",
    " counter = solutions.ObjectCounter(\n",
    " show=False, # Display the output\n",
    " region=region_points, # Pass region points\n",
    " model=\"yolo11x.pt\", # model=\"yolo11n-obb.pt\" for object counting using\n",
    "YOLO11 OBB model.\n",
    ")"
   ]
  },
  {
   "cell_type": "code",
   "execution_count": null,
   "metadata": {},
   "outputs": [],
   "source": [
    "1 # Process video\n",
    " while cap.isOpened():\n",
    " success, im0 = cap.read()\n",
    " if not success:\n",
    " print(\n",
    " \"Video frame is empty or video processing has been successfully\n",
    "completed.\"\n",
    " )\n",
    " break\n",
    " im0 = counter.count(im0)\n",
    " video_writer.write(im0)\n",
    " cap.release()\n",
    " video_writer.release()\n",
    " cv2.destroyAllWindows()"
   ]
  },
  {
   "cell_type": "code",
   "execution_count": null,
   "metadata": {},
   "outputs": [],
   "source": []
  },
  {
   "cell_type": "code",
   "execution_count": null,
   "metadata": {},
   "outputs": [],
   "source": []
  }
 ],
 "metadata": {
  "kernelspec": {
   "display_name": "Python 3",
   "language": "python",
   "name": "python3"
  },
  "language_info": {
   "name": "python",
   "version": "3.12.8"
  }
 },
 "nbformat": 4,
 "nbformat_minor": 2
}
